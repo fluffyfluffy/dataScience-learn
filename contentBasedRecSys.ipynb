{
 "cells": [
  {
   "cell_type": "code",
   "execution_count": 1,
   "metadata": {
    "id": "nal77YRFPxV_"
   },
   "outputs": [],
   "source": [
    "import pandas as pd\n",
    "import numpy as np\n",
    "from sklearn.model_selection import train_test_split\n",
    "import matplotlib.pyplot as plt\n",
    "from sklearn.metrics.pairwise import linear_kernel\n",
    "from sklearn.feature_extraction.text import TfidfVectorizer"
   ]
  },
  {
   "cell_type": "markdown",
   "metadata": {
    "id": "H1KczLNSUUpc"
   },
   "source": [
    "## Load Dataset"
   ]
  },
  {
   "cell_type": "code",
   "execution_count": 2,
   "metadata": {
    "colab": {
     "base_uri": "https://localhost:8080/",
     "height": 424
    },
    "id": "C-MNqnFoPvcF",
    "outputId": "8f020f7d-834e-451d-e57b-648de4ae3c7f"
   },
   "outputs": [
    {
     "data": {
      "text/html": [
       "<div>\n",
       "<style scoped>\n",
       "    .dataframe tbody tr th:only-of-type {\n",
       "        vertical-align: middle;\n",
       "    }\n",
       "\n",
       "    .dataframe tbody tr th {\n",
       "        vertical-align: top;\n",
       "    }\n",
       "\n",
       "    .dataframe thead th {\n",
       "        text-align: right;\n",
       "    }\n",
       "</style>\n",
       "<table border=\"1\" class=\"dataframe\">\n",
       "  <thead>\n",
       "    <tr style=\"text-align: right;\">\n",
       "      <th></th>\n",
       "      <th>movieId</th>\n",
       "      <th>title</th>\n",
       "      <th>genres</th>\n",
       "    </tr>\n",
       "  </thead>\n",
       "  <tbody>\n",
       "    <tr>\n",
       "      <th>0</th>\n",
       "      <td>1</td>\n",
       "      <td>Toy Story (1995)</td>\n",
       "      <td>Adventure|Animation|Children|Comedy|Fantasy</td>\n",
       "    </tr>\n",
       "    <tr>\n",
       "      <th>1</th>\n",
       "      <td>2</td>\n",
       "      <td>Jumanji (1995)</td>\n",
       "      <td>Adventure|Children|Fantasy</td>\n",
       "    </tr>\n",
       "    <tr>\n",
       "      <th>2</th>\n",
       "      <td>3</td>\n",
       "      <td>Grumpier Old Men (1995)</td>\n",
       "      <td>Comedy|Romance</td>\n",
       "    </tr>\n",
       "    <tr>\n",
       "      <th>3</th>\n",
       "      <td>4</td>\n",
       "      <td>Waiting to Exhale (1995)</td>\n",
       "      <td>Comedy|Drama|Romance</td>\n",
       "    </tr>\n",
       "    <tr>\n",
       "      <th>4</th>\n",
       "      <td>5</td>\n",
       "      <td>Father of the Bride Part II (1995)</td>\n",
       "      <td>Comedy</td>\n",
       "    </tr>\n",
       "    <tr>\n",
       "      <th>...</th>\n",
       "      <td>...</td>\n",
       "      <td>...</td>\n",
       "      <td>...</td>\n",
       "    </tr>\n",
       "    <tr>\n",
       "      <th>9737</th>\n",
       "      <td>193581</td>\n",
       "      <td>Black Butler: Book of the Atlantic (2017)</td>\n",
       "      <td>Action|Animation|Comedy|Fantasy</td>\n",
       "    </tr>\n",
       "    <tr>\n",
       "      <th>9738</th>\n",
       "      <td>193583</td>\n",
       "      <td>No Game No Life: Zero (2017)</td>\n",
       "      <td>Animation|Comedy|Fantasy</td>\n",
       "    </tr>\n",
       "    <tr>\n",
       "      <th>9739</th>\n",
       "      <td>193585</td>\n",
       "      <td>Flint (2017)</td>\n",
       "      <td>Drama</td>\n",
       "    </tr>\n",
       "    <tr>\n",
       "      <th>9740</th>\n",
       "      <td>193587</td>\n",
       "      <td>Bungo Stray Dogs: Dead Apple (2018)</td>\n",
       "      <td>Action|Animation</td>\n",
       "    </tr>\n",
       "    <tr>\n",
       "      <th>9741</th>\n",
       "      <td>193609</td>\n",
       "      <td>Andrew Dice Clay: Dice Rules (1991)</td>\n",
       "      <td>Comedy</td>\n",
       "    </tr>\n",
       "  </tbody>\n",
       "</table>\n",
       "<p>9742 rows × 3 columns</p>\n",
       "</div>"
      ],
      "text/plain": [
       "      movieId                                      title  \\\n",
       "0           1                           Toy Story (1995)   \n",
       "1           2                             Jumanji (1995)   \n",
       "2           3                    Grumpier Old Men (1995)   \n",
       "3           4                   Waiting to Exhale (1995)   \n",
       "4           5         Father of the Bride Part II (1995)   \n",
       "...       ...                                        ...   \n",
       "9737   193581  Black Butler: Book of the Atlantic (2017)   \n",
       "9738   193583               No Game No Life: Zero (2017)   \n",
       "9739   193585                               Flint (2017)   \n",
       "9740   193587        Bungo Stray Dogs: Dead Apple (2018)   \n",
       "9741   193609        Andrew Dice Clay: Dice Rules (1991)   \n",
       "\n",
       "                                           genres  \n",
       "0     Adventure|Animation|Children|Comedy|Fantasy  \n",
       "1                      Adventure|Children|Fantasy  \n",
       "2                                  Comedy|Romance  \n",
       "3                            Comedy|Drama|Romance  \n",
       "4                                          Comedy  \n",
       "...                                           ...  \n",
       "9737              Action|Animation|Comedy|Fantasy  \n",
       "9738                     Animation|Comedy|Fantasy  \n",
       "9739                                        Drama  \n",
       "9740                             Action|Animation  \n",
       "9741                                       Comedy  \n",
       "\n",
       "[9742 rows x 3 columns]"
      ]
     },
     "execution_count": 2,
     "metadata": {},
     "output_type": "execute_result"
    }
   ],
   "source": [
    "df_movie = pd.read_csv('movies.csv')\n",
    "df_movie"
   ]
  },
  {
   "cell_type": "markdown",
   "metadata": {
    "id": "BxhPwlegYzG2"
   },
   "source": [
    "## Preprocessing"
   ]
  },
  {
   "cell_type": "code",
   "execution_count": 3,
   "metadata": {
    "id": "HZDJ67O-V4tb"
   },
   "outputs": [],
   "source": [
    "# the function to extract titles \n",
    "def extract_title(title):\n",
    "   year = title[len(title)-5:len(title)-1]\n",
    "   \n",
    "   # some movies do not have the info about year in the column title. So, we should take care of the case as well.\n",
    "   if year.isnumeric():\n",
    "      title_no_year = title[:len(title)-7]\n",
    "      return title_no_year\n",
    "   else:\n",
    "      return title\n",
    "\n",
    "# the function to extract years\n",
    "def extract_year(title):\n",
    "   year = title[len(title)-5:len(title)-1]\n",
    "   # some movies do not have the info about year in the column title. So, we should take care of the case as well.\n",
    "   if year.isnumeric():\n",
    "      return int(year)\n",
    "   else:\n",
    "      return np.nan\n",
    "\n",
    "# change the column name from title to title_year\n",
    "df_movie.rename(columns={'title':'title_year'}, inplace=True) \n",
    "\n",
    "# remove leading and ending whitespaces in title_year\n",
    "df_movie['title_year'] = df_movie['title_year'].apply(lambda x: x.strip()) \n",
    "\n",
    "# create the columns for title and year\n",
    "df_movie['title'] = df_movie['title_year'].apply(extract_title) \n",
    "df_movie['year'] = df_movie['title_year'].apply(extract_year)"
   ]
  },
  {
   "cell_type": "code",
   "execution_count": 4,
   "metadata": {
    "colab": {
     "base_uri": "https://localhost:8080/"
    },
    "id": "NiXHhqM6WBGS",
    "outputId": "bc637881-188e-4999-ed26-8808e093b86a"
   },
   "outputs": [
    {
     "name": "stdout",
     "output_type": "stream",
     "text": [
      "The number of movies which do not have info about genres: 34\n"
     ]
    }
   ],
   "source": [
    "r,c = df_movie[df_movie['genres']=='(no genres listed)'].shape\n",
    "print('The number of movies which do not have info about genres:',r)\n",
    "# remove the movies without genre information and reset the index\n",
    "df_movies = df_movie[~(df_movie['genres']=='(no genres listed)')].reset_index(drop=True)"
   ]
  },
  {
   "cell_type": "code",
   "execution_count": 5,
   "metadata": {
    "colab": {
     "base_uri": "https://localhost:8080/",
     "height": 341
    },
    "id": "7Cu81CuuWClz",
    "outputId": "3adc0815-da91-45d8-8d15-588345cfa799"
   },
   "outputs": [
    {
     "data": {
      "text/plain": [
       "Text(0, 0.5, 'Counts')"
      ]
     },
     "execution_count": 5,
     "metadata": {},
     "output_type": "execute_result"
    },
    {
     "data": {
      "image/png": "[encoded data removed]",
      "text/plain": [
       "<Figure size 432x288 with 1 Axes>"
      ]
     },
     "metadata": {
      "needs_background": "light"
     },
     "output_type": "display_data"
    }
   ],
   "source": [
    "# remove '|' in the genres column\n",
    "df_movie['genres'] = df_movie['genres'].str.replace('|',' ')\n",
    "# count the number of occurences for each genre in the data set\n",
    "counts = dict()\n",
    "for i in df_movie.index:\n",
    "   for g in df_movie.loc[i,'genres'].split(' '):\n",
    "      if g not in counts:\n",
    "         counts[g] = 1\n",
    "      else:\n",
    "         counts[g] = counts[g] + 1\n",
    "# create a bar chart\n",
    "plt.bar(list(counts.keys()), counts.values(), color='g')\n",
    "plt.xticks(rotation=45)\n",
    "plt.xlabel('Genres')\n",
    "plt.ylabel('Counts')"
   ]
  },
  {
   "cell_type": "markdown",
   "metadata": {
    "id": "urcFYKdTUJUT"
   },
   "source": [
    "## TF-IDF"
   ]
  },
  {
   "cell_type": "code",
   "execution_count": 6,
   "metadata": {
    "id": "juTTy2_NUAki"
   },
   "outputs": [],
   "source": [
    "# change 'Sci-Fi' to 'SciFi' and 'Film-Noir' to 'Noir'\n",
    "df_movie['genres'] = df_movie['genres'].str.replace('Sci-Fi','SciFi')\n",
    "df_movie['genres'] = df_movie['genres'].str.replace('Film-Noir','Noir')\n",
    "\n",
    "# create an object for TfidfVectorizer\n",
    "tfidf_vector = TfidfVectorizer(stop_words='english')\n",
    "\n",
    "# apply the object to the genres column\n",
    "tfidf_matrix = tfidf_vector.fit_transform(df_movie['genres'])"
   ]
  },
  {
   "cell_type": "code",
   "execution_count": 7,
   "metadata": {
    "colab": {
     "base_uri": "https://localhost:8080/"
    },
    "id": "rIKKQImvUlkA",
    "outputId": "1e9ebfef-5ceb-45bc-9af9-d23d14d6de13"
   },
   "outputs": [
    {
     "data": {
      "text/plain": [
       "(9742, 21)"
      ]
     },
     "execution_count": 7,
     "metadata": {},
     "output_type": "execute_result"
    }
   ],
   "source": [
    "tfidf_matrix.shape"
   ]
  },
  {
   "cell_type": "markdown",
   "metadata": {
    "id": "rT8AKatFXNbX"
   },
   "source": [
    "## Cosine Similarity"
   ]
  },
  {
   "cell_type": "code",
   "execution_count": 8,
   "metadata": {
    "colab": {
     "base_uri": "https://localhost:8080/"
    },
    "id": "TIry_hsXXPPl",
    "outputId": "dd1f49df-1cb0-4858-c9d3-4e145cc339ce"
   },
   "outputs": [
    {
     "name": "stdout",
     "output_type": "stream",
     "text": [
      "[[1.         0.81357774 0.15276924 ... 0.         0.4210373  0.26758648]\n",
      " [0.81357774 1.         0.         ... 0.         0.         0.        ]\n",
      " [0.15276924 0.         1.         ... 0.         0.         0.57091541]\n",
      " ...\n",
      " [0.         0.         0.         ... 1.         0.         0.        ]\n",
      " [0.4210373  0.         0.         ... 0.         1.         0.        ]\n",
      " [0.26758648 0.         0.57091541 ... 0.         0.         1.        ]]\n"
     ]
    }
   ],
   "source": [
    "# create the cosine similarity matrix\n",
    "sim_matrix = linear_kernel(tfidf_matrix)\n",
    "print(sim_matrix)"
   ]
  },
  {
   "cell_type": "markdown",
   "metadata": {
    "id": "pzMnIoY3Xbwr"
   },
   "source": [
    "## Make the recommendation engine"
   ]
  },
  {
   "cell_type": "code",
   "execution_count": 9,
   "metadata": {
    "id": "CVAnTU3PbP-e"
   },
   "outputs": [],
   "source": [
    "# a function to convert index to title_year\n",
    "def get_title_year_from_index(index):\n",
    "    tmp = df_movie[df_movie.index == index]['title_year']\n",
    "    if len(tmp) == 0:\n",
    "        res = None\n",
    "    else:\n",
    "        res = tmp.values[0]\n",
    "    return res"
   ]
  },
  {
   "cell_type": "code",
   "execution_count": 10,
   "metadata": {
    "id": "11FPI0jtbXeY"
   },
   "outputs": [],
   "source": [
    "# a function to convert index to title\n",
    "def get_title_from_index(index):\n",
    "   return df_movie[df_movie.index == index]['title'].values[0]"
   ]
  },
  {
   "cell_type": "code",
   "execution_count": 11,
   "metadata": {
    "id": "PBiqrLhlarx7"
   },
   "outputs": [],
   "source": [
    "# a function to convert title to index\n",
    "def get_index_from_title(title):\n",
    "    tmp = df_movie[df_movie.title == title]\n",
    "    if len(tmp) == 0:\n",
    "        res = None\n",
    "    else:\n",
    "        res = tmp.index.values[0]\n",
    "    return res"
   ]
  },
  {
   "cell_type": "code",
   "execution_count": 12,
   "metadata": {
    "id": "5-gTMkDoXuYu"
   },
   "outputs": [],
   "source": [
    "def contents_based_recommender(movie_user_likes,how_many):\n",
    "    simmov = []\n",
    "    movie_index = get_index_from_title(movie_user_likes)\n",
    "    if movie_index != None:\n",
    "        movie_list = list(enumerate(sim_matrix[int(movie_index)]))\n",
    "        # remove the typed movie itself\n",
    "        similar_movies = list(filter(lambda x:x[0] != int(movie_index), sorted(movie_list,key=lambda x:x[1], reverse=True))) \n",
    "        for i,s in similar_movies[:how_many]:\n",
    "            simmov.append(get_title_year_from_index(i))\n",
    "    else:\n",
    "        simmov.append(\"Inputed Movie Title Not Found!\")\n",
    "    \n",
    "    return simmov"
   ]
  },
  {
   "cell_type": "markdown",
   "metadata": {
    "id": "GplIF0gxX1UR"
   },
   "source": [
    "## Test"
   ]
  },
  {
   "cell_type": "code",
   "execution_count": 13,
   "metadata": {
    "colab": {
     "base_uri": "https://localhost:8080/"
    },
    "id": "ue7gSwx7X2UZ",
    "outputId": "b468d7a0-e29b-4890-a787-5ca20ed453f2"
   },
   "outputs": [
    {
     "data": {
      "text/plain": [
       "['Antz (1998)',\n",
       " 'Toy Story 2 (1999)',\n",
       " 'Adventures of Rocky and Bullwinkle, The (2000)',\n",
       " \"Emperor's New Groove, The (2000)\",\n",
       " 'Monsters, Inc. (2001)',\n",
       " 'Wild, The (2006)',\n",
       " 'Shrek the Third (2007)',\n",
       " 'Tale of Despereaux, The (2008)',\n",
       " 'Asterix and the Vikings (Astérix et les Vikings) (2006)',\n",
       " 'Turbo (2013)']"
      ]
     },
     "execution_count": 13,
     "metadata": {},
     "output_type": "execute_result"
    }
   ],
   "source": [
    "test = contents_based_recommender('Toy Story',10)\n",
    "test"
   ]
  },
  {
   "cell_type": "code",
   "execution_count": 14,
   "metadata": {},
   "outputs": [
    {
     "data": {
      "text/html": [
       "<div>\n",
       "<style scoped>\n",
       "    .dataframe tbody tr th:only-of-type {\n",
       "        vertical-align: middle;\n",
       "    }\n",
       "\n",
       "    .dataframe tbody tr th {\n",
       "        vertical-align: top;\n",
       "    }\n",
       "\n",
       "    .dataframe thead th {\n",
       "        text-align: right;\n",
       "    }\n",
       "</style>\n",
       "<table border=\"1\" class=\"dataframe\">\n",
       "  <thead>\n",
       "    <tr style=\"text-align: right;\">\n",
       "      <th></th>\n",
       "      <th>movieId</th>\n",
       "      <th>title_year</th>\n",
       "      <th>genres</th>\n",
       "      <th>title</th>\n",
       "      <th>year</th>\n",
       "    </tr>\n",
       "  </thead>\n",
       "  <tbody>\n",
       "    <tr>\n",
       "      <th>0</th>\n",
       "      <td>1</td>\n",
       "      <td>Toy Story (1995)</td>\n",
       "      <td>Adventure Animation Children Comedy Fantasy</td>\n",
       "      <td>Toy Story</td>\n",
       "      <td>1995.0</td>\n",
       "    </tr>\n",
       "    <tr>\n",
       "      <th>1</th>\n",
       "      <td>2</td>\n",
       "      <td>Jumanji (1995)</td>\n",
       "      <td>Adventure Children Fantasy</td>\n",
       "      <td>Jumanji</td>\n",
       "      <td>1995.0</td>\n",
       "    </tr>\n",
       "    <tr>\n",
       "      <th>2</th>\n",
       "      <td>3</td>\n",
       "      <td>Grumpier Old Men (1995)</td>\n",
       "      <td>Comedy Romance</td>\n",
       "      <td>Grumpier Old Men</td>\n",
       "      <td>1995.0</td>\n",
       "    </tr>\n",
       "    <tr>\n",
       "      <th>3</th>\n",
       "      <td>4</td>\n",
       "      <td>Waiting to Exhale (1995)</td>\n",
       "      <td>Comedy Drama Romance</td>\n",
       "      <td>Waiting to Exhale</td>\n",
       "      <td>1995.0</td>\n",
       "    </tr>\n",
       "    <tr>\n",
       "      <th>4</th>\n",
       "      <td>5</td>\n",
       "      <td>Father of the Bride Part II (1995)</td>\n",
       "      <td>Comedy</td>\n",
       "      <td>Father of the Bride Part II</td>\n",
       "      <td>1995.0</td>\n",
       "    </tr>\n",
       "    <tr>\n",
       "      <th>...</th>\n",
       "      <td>...</td>\n",
       "      <td>...</td>\n",
       "      <td>...</td>\n",
       "      <td>...</td>\n",
       "      <td>...</td>\n",
       "    </tr>\n",
       "    <tr>\n",
       "      <th>9737</th>\n",
       "      <td>193581</td>\n",
       "      <td>Black Butler: Book of the Atlantic (2017)</td>\n",
       "      <td>Action Animation Comedy Fantasy</td>\n",
       "      <td>Black Butler: Book of the Atlantic</td>\n",
       "      <td>2017.0</td>\n",
       "    </tr>\n",
       "    <tr>\n",
       "      <th>9738</th>\n",
       "      <td>193583</td>\n",
       "      <td>No Game No Life: Zero (2017)</td>\n",
       "      <td>Animation Comedy Fantasy</td>\n",
       "      <td>No Game No Life: Zero</td>\n",
       "      <td>2017.0</td>\n",
       "    </tr>\n",
       "    <tr>\n",
       "      <th>9739</th>\n",
       "      <td>193585</td>\n",
       "      <td>Flint (2017)</td>\n",
       "      <td>Drama</td>\n",
       "      <td>Flint</td>\n",
       "      <td>2017.0</td>\n",
       "    </tr>\n",
       "    <tr>\n",
       "      <th>9740</th>\n",
       "      <td>193587</td>\n",
       "      <td>Bungo Stray Dogs: Dead Apple (2018)</td>\n",
       "      <td>Action Animation</td>\n",
       "      <td>Bungo Stray Dogs: Dead Apple</td>\n",
       "      <td>2018.0</td>\n",
       "    </tr>\n",
       "    <tr>\n",
       "      <th>9741</th>\n",
       "      <td>193609</td>\n",
       "      <td>Andrew Dice Clay: Dice Rules (1991)</td>\n",
       "      <td>Comedy</td>\n",
       "      <td>Andrew Dice Clay: Dice Rules</td>\n",
       "      <td>1991.0</td>\n",
       "    </tr>\n",
       "  </tbody>\n",
       "</table>\n",
       "<p>9742 rows × 5 columns</p>\n",
       "</div>"
      ],
      "text/plain": [
       "      movieId                                 title_year  \\\n",
       "0           1                           Toy Story (1995)   \n",
       "1           2                             Jumanji (1995)   \n",
       "2           3                    Grumpier Old Men (1995)   \n",
       "3           4                   Waiting to Exhale (1995)   \n",
       "4           5         Father of the Bride Part II (1995)   \n",
       "...       ...                                        ...   \n",
       "9737   193581  Black Butler: Book of the Atlantic (2017)   \n",
       "9738   193583               No Game No Life: Zero (2017)   \n",
       "9739   193585                               Flint (2017)   \n",
       "9740   193587        Bungo Stray Dogs: Dead Apple (2018)   \n",
       "9741   193609        Andrew Dice Clay: Dice Rules (1991)   \n",
       "\n",
       "                                           genres  \\\n",
       "0     Adventure Animation Children Comedy Fantasy   \n",
       "1                      Adventure Children Fantasy   \n",
       "2                                  Comedy Romance   \n",
       "3                            Comedy Drama Romance   \n",
       "4                                          Comedy   \n",
       "...                                           ...   \n",
       "9737              Action Animation Comedy Fantasy   \n",
       "9738                     Animation Comedy Fantasy   \n",
       "9739                                        Drama   \n",
       "9740                             Action Animation   \n",
       "9741                                       Comedy   \n",
       "\n",
       "                                   title    year  \n",
       "0                              Toy Story  1995.0  \n",
       "1                                Jumanji  1995.0  \n",
       "2                       Grumpier Old Men  1995.0  \n",
       "3                      Waiting to Exhale  1995.0  \n",
       "4            Father of the Bride Part II  1995.0  \n",
       "...                                  ...     ...  \n",
       "9737  Black Butler: Book of the Atlantic  2017.0  \n",
       "9738               No Game No Life: Zero  2017.0  \n",
       "9739                               Flint  2017.0  \n",
       "9740        Bungo Stray Dogs: Dead Apple  2018.0  \n",
       "9741        Andrew Dice Clay: Dice Rules  1991.0  \n",
       "\n",
       "[9742 rows x 5 columns]"
      ]
     },
     "execution_count": 14,
     "metadata": {},
     "output_type": "execute_result"
    }
   ],
   "source": [
    "df_movie"
   ]
  },
  {
   "cell_type": "code",
   "execution_count": 15,
   "metadata": {},
   "outputs": [],
   "source": [
    "titles = df_movie['title_year'].to_numpy()"
   ]
  },
  {
   "cell_type": "markdown",
   "metadata": {
    "id": "yDYVusBdLSNZ"
   },
   "source": [
    "# GUI"
   ]
  },
  {
   "cell_type": "code",
   "execution_count": 16,
   "metadata": {
    "id": "UsMYtcAwLVYR"
   },
   "outputs": [],
   "source": [
    "import PySimpleGUI as sg"
   ]
  },
  {
   "cell_type": "code",
   "execution_count": 17,
   "metadata": {},
   "outputs": [],
   "source": [
    "def func(message):\n",
    "    print(message)\n",
    "\n",
    "input_column = [\n",
    "    [\n",
    "        sg.Text(\"Enter a Title\"),\n",
    "        sg.In(size=(25, 1), enable_events=False, key=\"-TITLE-\"),\n",
    "        sg.Submit(key=\"-SUBMIT-\")\n",
    "    ],\n",
    "    [\n",
    "        sg.Listbox(\n",
    "            titles, enable_events=False, size=(40, 20), key=\"-TITLE LIST-\", horizontal_scroll=True\n",
    "        )\n",
    "    ],\n",
    "]\n",
    "\n",
    "result_column = [\n",
    "    [sg.Text(\"Choose an title from list on left!\")],\n",
    "    [sg.Text(\"Recommendation based on movie: \",size=(40, 1), key=\"-TOUT1-\")], \n",
    "    [\n",
    "        sg.Listbox(\n",
    "            values = [], enable_events=False, size=(40, 20), key=\"-REC LIST-\", horizontal_scroll=True\n",
    "        )\n",
    "    ],\n",
    "]\n",
    "    \n",
    "layout = [\n",
    "    [\n",
    "        sg.Column(input_column),\n",
    "        sg.VSeperator(),\n",
    "        sg.Column(result_column),\n",
    "    ],\n",
    "    [sg.Exit()],\n",
    "]\n",
    "\n",
    "window = sg.Window(title=\"Film Recommendation\", margins=(50, 50)).Layout(layout)\n",
    "\n",
    "while True:\n",
    "    event, values = window.Read()\n",
    "    if event in (None, 'Exit'):\n",
    "        break\n",
    "    if event == \"-SUBMIT-\":\n",
    "        key = values[\"-TITLE-\"]\n",
    "        window[\"-TOUT1-\"].update(\"Recommendation based on movie: \"+key)\n",
    "        res = contents_based_recommender(key,15)\n",
    "        window[\"-REC LIST-\"].update(res)\n",
    "window.Close()\n"
   ]
  },
  {
   "cell_type": "markdown",
   "metadata": {},
   "source": []
  }
 ],
 "metadata": {
  "colab": {
   "collapsed_sections": [],
   "name": "Content based RS.ipynb",
   "provenance": []
  },
  "kernelspec": {
   "display_name": "Python 3 (ipykernel)",
   "language": "python",
   "name": "python3"
  },
  "language_info": {
   "codemirror_mode": {
    "name": "ipython",
    "version": 3
   },
   "file_extension": ".py",
   "mimetype": "text/x-python",
   "name": "python",
   "nbconvert_exporter": "python",
   "pygments_lexer": "ipython3",
   "version": "3.9.12"
  }
 },
 "nbformat": 4,
 "nbformat_minor": 1
}
